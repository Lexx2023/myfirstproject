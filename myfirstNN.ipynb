{
  "nbformat": 4,
  "nbformat_minor": 0,
  "metadata": {
    "colab": {
      "provenance": [],
      "authorship_tag": "ABX9TyMdpx45+XURRcyNQOLeryFl",
      "include_colab_link": true
    },
    "kernelspec": {
      "name": "python3",
      "display_name": "Python 3"
    },
    "language_info": {
      "name": "python"
    }
  },
  "cells": [
    {
      "cell_type": "markdown",
      "metadata": {
        "id": "view-in-github",
        "colab_type": "text"
      },
      "source": [
        "<a href=\"https://colab.research.google.com/github/Lexx2023/myfirstproject/blob/main/myfirstNN.ipynb\" target=\"_parent\"><img src=\"https://colab.research.google.com/assets/colab-badge.svg\" alt=\"Open In Colab\"/></a>"
      ]
    },
    {
      "cell_type": "code",
      "execution_count": 5,
      "metadata": {
        "colab": {
          "base_uri": "https://localhost:8080/"
        },
        "id": "cY8NfrVPLNZA",
        "outputId": "b5594876-1df2-47c9-b57b-90bab7144339"
      },
      "outputs": [
        {
          "output_type": "stream",
          "name": "stdout",
          "text": [
            "evaluate_neural_network: 0\n",
            "weights: [0, 0, 0, 0]\n",
            "learning... please wait\n",
            "evaluate_neural_network: 0.2\n",
            "weights: [0, 0, 0.2, 0]\n",
            "learning... please wait\n",
            "evaluate_neural_network: 0.4\n",
            "weights: [0, 0, 0.4, 0]\n",
            "learning... please wait\n",
            "evaluate_neural_network: 0.6000000000000001\n",
            "weights: [0, 0, 0.6000000000000001, 0]\n",
            "learning... please wait\n",
            "evaluate_neural_network: 0.8\n",
            "weights: [0, 0, 0.8, 0]\n",
            "learning... please wait\n",
            "evaluate_neural_network: 1.0\n",
            "weights: [0, 0, 1.0, 0]\n",
            "learning... please wait\n"
          ]
        }
      ],
      "source": [
        "inputs = [0, 0, 1, 0]\n",
        "weights = [0, 0, 0, 0]\n",
        "desired_result = 1\n",
        "learning_rate = 0.2\n",
        "trials = 6\n",
        "def evaluate_neural_network(input_array, weight_array):\n",
        "    result = 0\n",
        "    for i in range(len(input_array)):\n",
        "        layer_value = input_array[i] * weight_array[i]\n",
        "        result += layer_value\n",
        "    print(\"evaluate_neural_network: \" + str(result))\n",
        "    print(\"weights: \" + str(weights))\n",
        "    return result\n",
        "def evaluate_error(desired, actual):\n",
        "    error = desired - actual\n",
        "    print(\"evaluate_error: \" + str(error))\n",
        "    return error\n",
        "\n",
        "def learn(input_array, weight_array):\n",
        "    print(\"learning... please wait\")\n",
        "    for i in range(len(input_array)):\n",
        "        if input_array[i]>0:\n",
        "            weight_array[i] += learning_rate\n",
        "\n",
        "def train(trials):\n",
        "    for i in range(trials):\n",
        "        neural_net_result = evaluate_neural_network(inputs, weights)\n",
        "        learn(inputs, weights)\n",
        "\n",
        "train(trials)\n",
        ""
      ]
    }
  ]
}
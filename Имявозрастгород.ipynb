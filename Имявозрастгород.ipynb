{
  "nbformat": 4,
  "nbformat_minor": 0,
  "metadata": {
    "colab": {
      "provenance": [],
      "authorship_tag": "ABX9TyO+nDaUsPYKOO2pHIor+NrQ",
      "include_colab_link": true
    },
    "kernelspec": {
      "name": "python3",
      "display_name": "Python 3"
    },
    "language_info": {
      "name": "python"
    }
  },
  "cells": [
    {
      "cell_type": "markdown",
      "metadata": {
        "id": "view-in-github",
        "colab_type": "text"
      },
      "source": [
        "<a href=\"https://colab.research.google.com/github/Lexx2023/myfirstproject/blob/main/%D0%98%D0%BC%D1%8F%D0%B2%D0%BE%D0%B7%D1%80%D0%B0%D1%81%D1%82%D0%B3%D0%BE%D1%80%D0%BE%D0%B4.ipynb\" target=\"_parent\"><img src=\"https://colab.research.google.com/assets/colab-badge.svg\" alt=\"Open In Colab\"/></a>"
      ]
    },
    {
      "cell_type": "code",
      "execution_count": 4,
      "metadata": {
        "colab": {
          "base_uri": "https://localhost:8080/"
        },
        "id": "cY8NfrVPLNZA",
        "outputId": "96eb1191-b440-4e77-c979-91e250f92f9f"
      },
      "outputs": [
        {
          "output_type": "stream",
          "name": "stdout",
          "text": [
            "      Имя  Возраст            Город\n",
            "0    Егор       25           Москва\n",
            "1    Анна       30           Самара\n",
            "2  Никита       28           Ростов\n",
            "3  Марина       35  Нижний Новгород\n"
          ]
        }
      ],
      "source": [
        "import pandas as pd\n",
        "# создаем DataFrame из словаря\n",
        "data = {'Имя': ['Егор', 'Анна', 'Никита', 'Марина'],\n",
        "        'Возраст': [25, 30, 28, 35],\n",
        "        'Город': ['Москва', 'Самара', 'Ростов', 'Нижний Новгород']}\n",
        "df = pd.DataFrame(data)\n",
        "# выводим DataFrame на экран\n",
        "print(df)\n"
      ]
    }
  ]
}
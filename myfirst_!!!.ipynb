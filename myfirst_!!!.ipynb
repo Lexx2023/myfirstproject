{
  "nbformat": 4,
  "nbformat_minor": 0,
  "metadata": {
    "colab": {
      "provenance": [],
      "authorship_tag": "ABX9TyP7LSQC/kPjf3EXaLIJIspF",
      "include_colab_link": true
    },
    "kernelspec": {
      "name": "python3",
      "display_name": "Python 3"
    },
    "language_info": {
      "name": "python"
    }
  },
  "cells": [
    {
      "cell_type": "markdown",
      "metadata": {
        "id": "view-in-github",
        "colab_type": "text"
      },
      "source": [
        "<a href=\"https://colab.research.google.com/github/Lexx2023/myfirstproject/blob/main/myfirst_!!!.ipynb\" target=\"_parent\"><img src=\"https://colab.research.google.com/assets/colab-badge.svg\" alt=\"Open In Colab\"/></a>"
      ]
    },
    {
      "cell_type": "code",
      "execution_count": 9,
      "metadata": {
        "colab": {
          "base_uri": "https://localhost:8080/"
        },
        "id": "cY8NfrVPLNZA",
        "outputId": "596ecd3f-8dce-4a51-aae9-e21e54b0060c"
      },
      "outputs": [
        {
          "output_type": "stream",
          "name": "stdout",
          "text": [
            "      2018-01-01 00:01:01  read  country_7  2458151261      SEO  North America\n",
            "0     2018-01-01 00:03:20  read  country_7  2458151262      SEO  South America\n",
            "1     2018-01-01 00:04:01  read  country_7  2458151263  AdWords         Africa\n",
            "2     2018-01-01 00:04:02  read  country_7  2458151264  AdWords         Europe\n",
            "3     2018-01-01 00:05:03  read  country_8  2458151265   Reddit  North America\n",
            "4     2018-01-01 00:05:42  read  country_6  2458151266   Reddit  North America\n",
            "...                   ...   ...        ...         ...      ...            ...\n",
            "1789  2018-01-01 23:57:14  read  country_2  2458153051  AdWords  North America\n",
            "1790  2018-01-01 23:58:33  read  country_8  2458153052      SEO           Asia\n",
            "1791  2018-01-01 23:59:36  read  country_6  2458153053   Reddit           Asia\n",
            "1792  2018-01-01 23:59:36  read  country_7  2458153054  AdWords         Europe\n",
            "1793  2018-01-01 23:59:38  read  country_5  2458153055   Reddit           Asia\n",
            "\n",
            "[1794 rows x 6 columns]\n"
          ]
        }
      ],
      "source": [
        "# Series\n",
        "import numpy as np\n",
        "import pandas as pd\n",
        "# df = pd.read_csv('1.csv')\n",
        "# 'https://pythonru.com/downloads/pandas_tutorial_read.csv'\n",
        "moi_dannie = pd.read_csv('https://pythonru.com/downloads/pandas_tutorial_read.csv', delimiter=\";\")\n",
        "print(moi_dannie)\n",
        "# a = [1,2,3,4,56,67,5,67,]  // a[2]\n",
        "\n"
      ]
    },
    {
      "cell_type": "markdown",
      "source": [],
      "metadata": {
        "id": "UWogKTu0jBrX"
      }
    }
  ]
}